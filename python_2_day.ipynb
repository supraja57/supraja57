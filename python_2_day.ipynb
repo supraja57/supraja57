{
  "nbformat": 4,
  "nbformat_minor": 0,
  "metadata": {
    "colab": {
      "name": "python 2 day.ipynb",
      "provenance": [],
      "include_colab_link": true
    },
    "kernelspec": {
      "name": "python3",
      "display_name": "Python 3"
    }
  },
  "cells": [
    {
      "cell_type": "markdown",
      "metadata": {
        "id": "view-in-github",
        "colab_type": "text"
      },
      "source": [
        "<a href=\"https://colab.research.google.com/github/supraja57/supraja57/blob/master/python_2_day.ipynb\" target=\"_parent\"><img src=\"https://colab.research.google.com/assets/colab-badge.svg\" alt=\"Open In Colab\"/></a>"
      ]
    },
    {
      "cell_type": "code",
      "metadata": {
        "id": "-sUbTAJxaoEd",
        "colab_type": "code",
        "outputId": "bc70d082-d383-44f5-c42c-7edc658e1b7b",
        "colab": {
          "base_uri": "https://localhost:8080/",
          "height": 51
        }
      },
      "source": [
        "n= int(input(\"num\"))\n",
        "i=1\n",
        "while i<=n:\n",
        "    print(i,end = ' ')\n",
        "    i=i+1"
      ],
      "execution_count": 0,
      "outputs": [
        {
          "output_type": "stream",
          "text": [
            "num10\n",
            "1 2 3 4 5 6 7 8 9 10 "
          ],
          "name": "stdout"
        }
      ]
    },
    {
      "cell_type": "code",
      "metadata": {
        "id": "PRs3hB_ba73h",
        "colab_type": "code",
        "outputId": "59336565-3061-4b4c-9d1c-9411bed6d1f9",
        "colab": {
          "base_uri": "https://localhost:8080/",
          "height": 51
        }
      },
      "source": [
        "n= int(input(\"enter the number\"))\n",
        "sum = 0\n",
        "while n!=0:\n",
        "    r=n%10\n",
        "    sum=sum+r\n",
        "    n=n//10\n",
        "print(sum)    "
      ],
      "execution_count": 0,
      "outputs": [
        {
          "output_type": "stream",
          "text": [
            "enter the number123\n",
            "6\n"
          ],
          "name": "stdout"
        }
      ]
    },
    {
      "cell_type": "markdown",
      "metadata": {
        "id": "NIjd62nSbQMv",
        "colab_type": "text"
      },
      "source": [
        "# printing digits of numbers in reverse order"
      ]
    },
    {
      "cell_type": "code",
      "metadata": {
        "id": "LDXfqVpBbEQC",
        "colab_type": "code",
        "outputId": "cccfc14a-e8d3-4c39-f3d9-a1243f6a6ee8",
        "colab": {
          "base_uri": "https://localhost:8080/",
          "height": 51
        }
      },
      "source": [
        "n= int(input(\"enter the number\"))\n",
        "while n!=0:\n",
        "    r=n%10\n",
        "    print(r,end='')\n",
        "    n=n//10    "
      ],
      "execution_count": 0,
      "outputs": [
        {
          "output_type": "stream",
          "text": [
            "enter the number123\n",
            "321"
          ],
          "name": "stdout"
        }
      ]
    },
    {
      "cell_type": "markdown",
      "metadata": {
        "id": "9ysU2pHVbLDv",
        "colab_type": "text"
      },
      "source": [
        "## for loop synatax\n",
        " - for varaiable name interable _object:\n",
        "    - statement\n",
        "    \n",
        "- for variable _name in rane (star,stop,steps):\n",
        "    -  statement"
      ]
    },
    {
      "cell_type": "code",
      "metadata": {
        "id": "I_TwUPTjbEh-",
        "colab_type": "code",
        "outputId": "74b028c6-0a27-406e-9fed-4e3366f020ef",
        "colab": {
          "base_uri": "https://localhost:8080/",
          "height": 187
        }
      },
      "source": [
        "#prirt 1 to 10 using loop\n",
        "for i in range(0,10):\n",
        "  print(i)"
      ],
      "execution_count": 0,
      "outputs": [
        {
          "output_type": "stream",
          "text": [
            "0\n",
            "1\n",
            "2\n",
            "3\n",
            "4\n",
            "5\n",
            "6\n",
            "7\n",
            "8\n",
            "9\n"
          ],
          "name": "stdout"
        }
      ]
    },
    {
      "cell_type": "code",
      "metadata": {
        "id": "2BHDLNCRbEO3",
        "colab_type": "code",
        "outputId": "a7c7b785-9d99-4fca-fa9d-2a43845218ff",
        "colab": {
          "base_uri": "https://localhost:8080/",
          "height": 204
        }
      },
      "source": [
        "for i in range(0,10+1):\n",
        "  print(i)"
      ],
      "execution_count": 0,
      "outputs": [
        {
          "output_type": "stream",
          "text": [
            "0\n",
            "1\n",
            "2\n",
            "3\n",
            "4\n",
            "5\n",
            "6\n",
            "7\n",
            "8\n",
            "9\n",
            "10\n"
          ],
          "name": "stdout"
        }
      ]
    },
    {
      "cell_type": "code",
      "metadata": {
        "id": "RHPIKKZdfk2C",
        "colab_type": "code",
        "outputId": "b88fb310-5151-4cf1-b6dc-6f144d907694",
        "colab": {
          "base_uri": "https://localhost:8080/",
          "height": 119
        }
      },
      "source": [
        "for i in \"bipin \":\n",
        "  print(i)"
      ],
      "execution_count": 0,
      "outputs": [
        {
          "output_type": "stream",
          "text": [
            "b\n",
            "i\n",
            "p\n",
            "i\n",
            "n\n",
            " \n"
          ],
          "name": "stdout"
        }
      ]
    },
    {
      "cell_type": "code",
      "metadata": {
        "id": "viqndtfwfk7e",
        "colab_type": "code",
        "outputId": "5c23b358-bd5e-426c-871f-26ed53d20ff2",
        "colab": {
          "base_uri": "https://localhost:8080/",
          "height": 34
        }
      },
      "source": [
        "# addition of two number \n",
        "def addition(a,b):\n",
        "    c = a+b\n",
        "    print(c)\n",
        "addition(3,4)    "
      ],
      "execution_count": 0,
      "outputs": [
        {
          "output_type": "stream",
          "text": [
            "7\n"
          ],
          "name": "stdout"
        }
      ]
    },
    {
      "cell_type": "code",
      "metadata": {
        "id": "aYwKhSt3krv6",
        "colab_type": "code",
        "outputId": "c1c6e525-c326-4670-b7b5-c57e6fc24ebb",
        "colab": {
          "base_uri": "https://localhost:8080/",
          "height": 34
        }
      },
      "source": [
        "# find sum of of even digits from the number \n",
        "def evendigits_sum(n):\n",
        "  sum=0\n",
        "  while n!=0:\n",
        "    r=n%10\n",
        "    if r%2==0:\n",
        "      sum=sum+r\n",
        "    n=n//10\n",
        "  return sum\n",
        "evendigits_sum(123)    \n",
        "      \n"
      ],
      "execution_count": 0,
      "outputs": [
        {
          "output_type": "execute_result",
          "data": {
            "text/plain": [
              "2"
            ]
          },
          "metadata": {
            "tags": []
          },
          "execution_count": 21
        }
      ]
    },
    {
      "cell_type": "code",
      "metadata": {
        "id": "tY0XEPhnlybh",
        "colab_type": "code",
        "colab": {
          "base_uri": "https://localhost:8080/",
          "height": 34
        },
        "outputId": "f2cb696b-d8c3-4258-c0de-b992dc2277a5"
      },
      "source": [
        "def largedit (n):\n",
        "  large = 0\n",
        "  while n!=0:\n",
        "    r=n%10\n",
        "    if large <r:\n",
        "      large = r\n",
        "    n = n//10\n",
        "  return large\n",
        "largedit (12541)"
      ],
      "execution_count": 27,
      "outputs": [
        {
          "output_type": "execute_result",
          "data": {
            "text/plain": [
              "5"
            ]
          },
          "metadata": {
            "tags": []
          },
          "execution_count": 27
        }
      ]
    },
    {
      "cell_type": "code",
      "metadata": {
        "id": "-hQsxk8AlyZY",
        "colab_type": "code",
        "colab": {
          "base_uri": "https://localhost:8080/",
          "height": 129
        },
        "outputId": "1e35d3f3-0208-461c-9a2e-315b514043c9"
      },
      "source": [
        "# palindrome or not\n",
        "def palindrome(n):\n",
        "  Rev=0\n",
        "  buffer = n\n",
        "  while n!=0:\n",
        "    rev= rev*10+(n%10)\n",
        "    n=n//10\n",
        "  if rev==buffer\n",
        "    return\"palindrome\"\n",
        "  return \"not a palindrome\"  \n",
        "  print(palindrome(121))\n",
        "  palidrome(121)  \n",
        "\n",
        " "
      ],
      "execution_count": 29,
      "outputs": [
        {
          "output_type": "error",
          "ename": "SyntaxError",
          "evalue": "ignored",
          "traceback": [
            "\u001b[0;36m  File \u001b[0;32m\"<ipython-input-29-800db27ff50f>\"\u001b[0;36m, line \u001b[0;32m7\u001b[0m\n\u001b[0;31m    if rev==buffer\u001b[0m\n\u001b[0m                  ^\u001b[0m\n\u001b[0;31mSyntaxError\u001b[0m\u001b[0;31m:\u001b[0m invalid syntax\n"
          ]
        }
      ]
    },
    {
      "cell_type": "code",
      "metadata": {
        "id": "yGpF6yDds_FC",
        "colab_type": "code",
        "colab": {}
      },
      "source": [
        ""
      ],
      "execution_count": 0,
      "outputs": []
    }
  ]
}